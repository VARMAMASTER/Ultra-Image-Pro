{
 "cells": [
  {
   "cell_type": "code",
   "execution_count": 1,
   "metadata": {},
   "outputs": [
    {
     "name": "stderr",
     "output_type": "stream",
     "text": [
      "2023-08-15 01:50:58.094902: I tensorflow/core/platform/cpu_feature_guard.cc:182] This TensorFlow binary is optimized to use available CPU instructions in performance-critical operations.\n",
      "To enable the following instructions: AVX2 FMA, in other operations, rebuild TensorFlow with the appropriate compiler flags.\n",
      "2023-08-15 01:50:58.953753: W tensorflow/compiler/tf2tensorrt/utils/py_utils.cc:38] TF-TRT Warning: Could not find TensorRT\n",
      "2023-08-15 01:50:59.888949: I tensorflow/compiler/xla/stream_executor/cuda/cuda_gpu_executor.cc:996] successful NUMA node read from SysFS had negative value (-1), but there must be at least one NUMA node, so returning NUMA node zero. See more at https://github.com/torvalds/linux/blob/v6.0/Documentation/ABI/testing/sysfs-bus-pci#L344-L355\n",
      "2023-08-15 01:50:59.978526: I tensorflow/compiler/xla/stream_executor/cuda/cuda_gpu_executor.cc:996] successful NUMA node read from SysFS had negative value (-1), but there must be at least one NUMA node, so returning NUMA node zero. See more at https://github.com/torvalds/linux/blob/v6.0/Documentation/ABI/testing/sysfs-bus-pci#L344-L355\n",
      "2023-08-15 01:50:59.978855: I tensorflow/compiler/xla/stream_executor/cuda/cuda_gpu_executor.cc:996] successful NUMA node read from SysFS had negative value (-1), but there must be at least one NUMA node, so returning NUMA node zero. See more at https://github.com/torvalds/linux/blob/v6.0/Documentation/ABI/testing/sysfs-bus-pci#L344-L355\n",
      "2023-08-15 01:50:59.981386: I tensorflow/compiler/xla/stream_executor/cuda/cuda_gpu_executor.cc:996] successful NUMA node read from SysFS had negative value (-1), but there must be at least one NUMA node, so returning NUMA node zero. See more at https://github.com/torvalds/linux/blob/v6.0/Documentation/ABI/testing/sysfs-bus-pci#L344-L355\n",
      "2023-08-15 01:50:59.981691: I tensorflow/compiler/xla/stream_executor/cuda/cuda_gpu_executor.cc:996] successful NUMA node read from SysFS had negative value (-1), but there must be at least one NUMA node, so returning NUMA node zero. See more at https://github.com/torvalds/linux/blob/v6.0/Documentation/ABI/testing/sysfs-bus-pci#L344-L355\n",
      "2023-08-15 01:50:59.981926: I tensorflow/compiler/xla/stream_executor/cuda/cuda_gpu_executor.cc:996] successful NUMA node read from SysFS had negative value (-1), but there must be at least one NUMA node, so returning NUMA node zero. See more at https://github.com/torvalds/linux/blob/v6.0/Documentation/ABI/testing/sysfs-bus-pci#L344-L355\n",
      "2023-08-15 01:51:00.869100: I tensorflow/compiler/xla/stream_executor/cuda/cuda_gpu_executor.cc:996] successful NUMA node read from SysFS had negative value (-1), but there must be at least one NUMA node, so returning NUMA node zero. See more at https://github.com/torvalds/linux/blob/v6.0/Documentation/ABI/testing/sysfs-bus-pci#L344-L355\n",
      "2023-08-15 01:51:00.869392: I tensorflow/compiler/xla/stream_executor/cuda/cuda_gpu_executor.cc:996] successful NUMA node read from SysFS had negative value (-1), but there must be at least one NUMA node, so returning NUMA node zero. See more at https://github.com/torvalds/linux/blob/v6.0/Documentation/ABI/testing/sysfs-bus-pci#L344-L355\n",
      "2023-08-15 01:51:00.869530: I tensorflow/compiler/xla/stream_executor/cuda/cuda_gpu_executor.cc:996] successful NUMA node read from SysFS had negative value (-1), but there must be at least one NUMA node, so returning NUMA node zero. See more at https://github.com/torvalds/linux/blob/v6.0/Documentation/ABI/testing/sysfs-bus-pci#L344-L355\n",
      "2023-08-15 01:51:00.869678: I tensorflow/core/common_runtime/gpu/gpu_device.cc:1635] Created device /job:localhost/replica:0/task:0/device:GPU:0 with 2254 MB memory:  -> device: 0, name: NVIDIA GeForce GTX 1650, pci bus id: 0000:01:00.0, compute capability: 7.5\n"
     ]
    }
   ],
   "source": [
    "from keras.models import load_model\n",
    "model = load_model('./Ultrasonic_welding_IPDL.h5')"
   ]
  },
  {
   "cell_type": "code",
   "execution_count": 2,
   "metadata": {},
   "outputs": [
    {
     "name": "stderr",
     "output_type": "stream",
     "text": [
      "2023-08-15 01:51:02.746192: I tensorflow/compiler/xla/stream_executor/cuda/cuda_dnn.cc:424] Loaded cuDNN version 8600\n"
     ]
    },
    {
     "name": "stdout",
     "output_type": "stream",
     "text": [
      "1/1 [==============================] - 2s 2s/step\n",
      "GOOD_3.jpg\n",
      "Prediction: [[8.6271658e-04 9.8500210e-01 5.2798208e-04 1.3607243e-02]], Label: good\n",
      "1/1 [==============================] - 0s 19ms/step\n",
      "scratch_2.jpg\n",
      "Prediction: [[2.1488441e-02 6.0545834e-04 1.5200542e-02 9.6270555e-01]], Label: scratch\n",
      "1/1 [==============================] - 0s 17ms/step\n",
      "Dent_2.jpg\n",
      "Prediction: [[9.9627835e-01 5.9538157e-09 8.9115318e-05 3.6325357e-03]], Label: dent\n",
      "1/1 [==============================] - 0s 17ms/step\n",
      "GOOD_2.jpg\n",
      "Prediction: [[7.9823483e-05 9.8956341e-01 6.1293906e-03 4.2274105e-03]], Label: good\n",
      "1/1 [==============================] - 0s 19ms/step\n",
      "GOOD_1.jpg\n",
      "Prediction: [[3.3102310e-03 9.9143046e-01 1.4628153e-04 5.1131067e-03]], Label: good\n",
      "1/1 [==============================] - 0s 17ms/step\n",
      "scratch_3.jpg\n",
      "Prediction: [[0.03044434 0.02672721 0.06999867 0.87282985]], Label: scratch\n",
      "1/1 [==============================] - 0s 17ms/step\n",
      "Dent_3.jpg\n",
      "Prediction: [[9.9999917e-01 7.2209411e-07 9.2377640e-08 6.2644969e-09]], Label: dent\n",
      "1/1 [==============================] - 0s 17ms/step\n",
      "Dent_1.jpg\n",
      "Prediction: [[9.9627835e-01 5.9538157e-09 8.9115318e-05 3.6325357e-03]], Label: dent\n",
      "1/1 [==============================] - 0s 18ms/step\n",
      "overextrusion_1.jpg\n",
      "Prediction: [[3.0510425e-13 1.4337624e-11 1.0000000e+00 2.9591640e-09]], Label: overextrusion\n",
      "1/1 [==============================] - 0s 17ms/step\n",
      "overextrusion_3.jpg\n",
      "Prediction: [[9.379283e-13 4.044815e-08 9.999999e-01 6.642216e-08]], Label: overextrusion\n",
      "1/1 [==============================] - 0s 18ms/step\n",
      "scratch_1.jpg\n",
      "Prediction: [[5.71889197e-03 1.49153475e-05 1.10320922e-03 9.93162990e-01]], Label: scratch\n",
      "1/1 [==============================] - 0s 17ms/step\n",
      "overextrusion_2.jpg\n",
      "Prediction: [[0.02469268 0.00289374 0.17735982 0.7950537 ]], Label: scratch\n"
     ]
    }
   ],
   "source": [
    "#predection on random images\n",
    "import numpy as np\n",
    "import os\n",
    "from PIL import Image\n",
    "\n",
    "# Define the classes\n",
    "classes = ['dent', 'good', 'overextrusion', 'scratch']\n",
    "\n",
    "# Set the path to the image dataset\n",
    "image_path = './test_predect/'\n",
    "\n",
    "# Loop through the images in the dataset\n",
    "for file in os.listdir(image_path):\n",
    "    # Load the image\n",
    "    img = Image.open(os.path.join(image_path, file)).resize((224, 224))\n",
    "    img = np.array(img) / 255.0\n",
    "    img = np.expand_dims(img, axis=0)\n",
    "    \n",
    "    # Make a prediction\n",
    "    prediction = model.predict(img)\n",
    "\n",
    "    print(file)\n",
    "    \n",
    "    # Get the label of the predicted class\n",
    "    label = classes[np.argmax(prediction)]\n",
    "    \n",
    "    # Print the prediction along with the label\n",
    "    print(f\"Prediction: {prediction}, Label: {label}\")"
   ]
  }
 ],
 "metadata": {
  "kernelspec": {
   "display_name": "tf",
   "language": "python",
   "name": "python3"
  },
  "language_info": {
   "codemirror_mode": {
    "name": "ipython",
    "version": 3
   },
   "file_extension": ".py",
   "mimetype": "text/x-python",
   "name": "python",
   "nbconvert_exporter": "python",
   "pygments_lexer": "ipython3",
   "version": "3.9.16"
  },
  "orig_nbformat": 4
 },
 "nbformat": 4,
 "nbformat_minor": 2
}
