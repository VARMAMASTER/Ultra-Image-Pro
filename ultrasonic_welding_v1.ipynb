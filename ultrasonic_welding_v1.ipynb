{
 "cells": [
  {
   "cell_type": "code",
   "execution_count": 1,
   "metadata": {},
   "outputs": [
    {
     "name": "stderr",
     "output_type": "stream",
     "text": [
      "2023-10-11 19:45:20.444331: I tensorflow/core/platform/cpu_feature_guard.cc:182] This TensorFlow binary is optimized to use available CPU instructions in performance-critical operations.\n",
      "To enable the following instructions: AVX2 FMA, in other operations, rebuild TensorFlow with the appropriate compiler flags.\n",
      "2023-10-11 19:45:21.615249: W tensorflow/compiler/tf2tensorrt/utils/py_utils.cc:38] TF-TRT Warning: Could not find TensorRT\n"
     ]
    }
   ],
   "source": [
    "#importing required libraries\n",
    "import numpy as np\n",
    "import matplotlib.pyplot as plt\n",
    "from keras.models import Sequential\n",
    "from keras.layers import Conv2D, MaxPooling2D, Flatten, Dense\n",
    "from keras.preprocessing.image import ImageDataGenerator"
   ]
  },
  {
   "cell_type": "code",
   "execution_count": 2,
   "metadata": {},
   "outputs": [
    {
     "name": "stdout",
     "output_type": "stream",
     "text": [
      "Device: \n"
     ]
    },
    {
     "name": "stderr",
     "output_type": "stream",
     "text": [
      "2023-10-11 19:45:23.126992: E tensorflow/compiler/xla/stream_executor/cuda/cuda_driver.cc:266] failed call to cuInit: CUDA_ERROR_UNKNOWN: unknown error\n",
      "2023-10-11 19:45:23.127044: I tensorflow/compiler/xla/stream_executor/cuda/cuda_diagnostics.cc:168] retrieving CUDA diagnostic information for host: nskv-paviliion\n",
      "2023-10-11 19:45:23.127057: I tensorflow/compiler/xla/stream_executor/cuda/cuda_diagnostics.cc:175] hostname: nskv-paviliion\n",
      "2023-10-11 19:45:23.127213: I tensorflow/compiler/xla/stream_executor/cuda/cuda_diagnostics.cc:199] libcuda reported version is: 530.41.3\n",
      "2023-10-11 19:45:23.127244: I tensorflow/compiler/xla/stream_executor/cuda/cuda_diagnostics.cc:203] kernel reported version is: 530.41.3\n",
      "2023-10-11 19:45:23.127254: I tensorflow/compiler/xla/stream_executor/cuda/cuda_diagnostics.cc:309] kernel version seems to match DSO: 530.41.3\n"
     ]
    }
   ],
   "source": [
    "import tensorflow as tf\n",
    "print(\"Device:\", tf.test.gpu_device_name())\n"
   ]
  },
  {
   "cell_type": "code",
   "execution_count": 3,
   "metadata": {},
   "outputs": [],
   "source": [
    "# Setting the path to our data\n",
    "train_data_dir = './Ultrasonic_weld_v1/train/'\n",
    "validation_data_dir = './Ultrasonic_weld_v1/valid/'\n",
    "test_data_dir = \"./Ultrasonic_weld_v1/test/\""
   ]
  },
  {
   "cell_type": "code",
   "execution_count": 4,
   "metadata": {},
   "outputs": [],
   "source": [
    "# Setting the image and batch size\n",
    "img_width, img_height = 224, 224\n",
    "batch_size = 10"
   ]
  },
  {
   "cell_type": "code",
   "execution_count": 5,
   "metadata": {},
   "outputs": [
    {
     "name": "stdout",
     "output_type": "stream",
     "text": [
      "Found 420 images belonging to 4 classes.\n",
      "Found 100 images belonging to 4 classes.\n",
      "Found 80 images belonging to 4 classes.\n"
     ]
    }
   ],
   "source": [
    "\n",
    "# Data augmentation for training set\n",
    "train_datagen = ImageDataGenerator(rescale=1./255,\n",
    "                                   shear_range=0.2,\n",
    "                                   zoom_range=0.2,\n",
    "                                   horizontal_flip=True)\n",
    "\n",
    "# Only rescaling for validation set\n",
    "val_datagen = ImageDataGenerator(rescale=1./255)\n",
    "\n",
    "# Only rescaling for testing set\n",
    "test_datagen = ImageDataGenerator(rescale=1./255)\n",
    "\n",
    "# Load and preprocess the training and validation datasets\n",
    "train_generator = train_datagen.flow_from_directory(train_data_dir,\n",
    "                                                    target_size=(img_width, img_height),\n",
    "                                                    batch_size=batch_size,\n",
    "                                                    class_mode='categorical')\n",
    "\n",
    "validation_generator = val_datagen.flow_from_directory(validation_data_dir,\n",
    "                                                      target_size=(img_width, img_height),\n",
    "                                                      batch_size=batch_size,\n",
    "                                                      class_mode='categorical')\n",
    "\n",
    "test_generator = test_datagen.flow_from_directory(test_data_dir,\n",
    "                                                      target_size=(img_width, img_height),\n",
    "                                                      batch_size=batch_size,\n",
    "                                                      class_mode='categorical')\n",
    "\n"
   ]
  },
  {
   "cell_type": "code",
   "execution_count": 6,
   "metadata": {},
   "outputs": [],
   "source": [
    "# Create the CNN model\n",
    "model = Sequential()\n",
    "model.add(Conv2D(32, (3, 3), activation='relu', input_shape=(img_width, img_height, 3))) \n",
    "model.add(MaxPooling2D((2, 2)))\n",
    "model.add(Conv2D(64, (3, 3), activation='relu'))\n",
    "model.add(MaxPooling2D((2, 2)))\n",
    "model.add(Conv2D(128, (3, 3), activation='relu'))\n",
    "model.add(MaxPooling2D((2, 2)))\n",
    "model.add(Conv2D(128, (3, 3), activation='relu'))\n",
    "conv1_output = model.layers[-1].output\n",
    "model.add(MaxPooling2D((2, 2)))\n",
    "model.add(Flatten())\n",
    "model.add(Dense(256, activation='relu'))\n",
    "model.add(Dense(4, activation='softmax'))\n"
   ]
  },
  {
   "cell_type": "code",
   "execution_count": 7,
   "metadata": {},
   "outputs": [],
   "source": [
    "# Compile the model\n",
    "model.compile(loss='categorical_crossentropy', optimizer='adam', metrics=['accuracy'])"
   ]
  },
  {
   "cell_type": "code",
   "execution_count": 8,
   "metadata": {},
   "outputs": [
    {
     "name": "stdout",
     "output_type": "stream",
     "text": [
      "Epoch 1/10\n"
     ]
    },
    {
     "name": "stderr",
     "output_type": "stream",
     "text": [
      "2023-10-11 19:45:24.269725: I tensorflow/core/common_runtime/executor.cc:1197] [/device:CPU:0] (DEBUG INFO) Executor start aborting (this does not indicate an error and you can ignore this message): INVALID_ARGUMENT: You must feed a value for placeholder tensor 'Placeholder/_0' with dtype int32\n",
      "\t [[{{node Placeholder/_0}}]]\n"
     ]
    },
    {
     "name": "stdout",
     "output_type": "stream",
     "text": [
      "42/42 [==============================] - ETA: 0s - loss: 1.3439 - accuracy: 0.3667"
     ]
    },
    {
     "name": "stderr",
     "output_type": "stream",
     "text": [
      "2023-10-11 19:46:05.119013: I tensorflow/core/common_runtime/executor.cc:1197] [/device:CPU:0] (DEBUG INFO) Executor start aborting (this does not indicate an error and you can ignore this message): INVALID_ARGUMENT: You must feed a value for placeholder tensor 'Placeholder/_0' with dtype int32\n",
      "\t [[{{node Placeholder/_0}}]]\n"
     ]
    },
    {
     "name": "stdout",
     "output_type": "stream",
     "text": [
      "42/42 [==============================] - 46s 1s/step - loss: 1.3439 - accuracy: 0.3667 - val_loss: 0.6491 - val_accuracy: 0.8400\n",
      "Epoch 2/10\n",
      "42/42 [==============================] - 39s 918ms/step - loss: 0.6267 - accuracy: 0.8048 - val_loss: 0.5735 - val_accuracy: 0.8600\n",
      "Epoch 3/10\n",
      "42/42 [==============================] - 44s 1s/step - loss: 0.4539 - accuracy: 0.8548 - val_loss: 0.3621 - val_accuracy: 0.9200\n",
      "Epoch 4/10\n",
      "42/42 [==============================] - 41s 963ms/step - loss: 0.3019 - accuracy: 0.9095 - val_loss: 0.2216 - val_accuracy: 0.9300\n",
      "Epoch 5/10\n",
      "42/42 [==============================] - 40s 951ms/step - loss: 0.2286 - accuracy: 0.9333 - val_loss: 0.5126 - val_accuracy: 0.8900\n",
      "Epoch 6/10\n",
      "42/42 [==============================] - 42s 1s/step - loss: 0.1983 - accuracy: 0.9405 - val_loss: 0.1146 - val_accuracy: 0.9400\n",
      "Epoch 7/10\n",
      "42/42 [==============================] - 39s 919ms/step - loss: 0.1431 - accuracy: 0.9595 - val_loss: 0.0279 - val_accuracy: 0.9900\n",
      "Epoch 8/10\n",
      "42/42 [==============================] - 37s 879ms/step - loss: 0.1443 - accuracy: 0.9548 - val_loss: 0.1502 - val_accuracy: 0.9300\n",
      "Epoch 9/10\n",
      "42/42 [==============================] - 38s 908ms/step - loss: 0.0997 - accuracy: 0.9595 - val_loss: 0.0154 - val_accuracy: 1.0000\n",
      "Epoch 10/10\n",
      "42/42 [==============================] - 39s 916ms/step - loss: 0.1307 - accuracy: 0.9476 - val_loss: 0.1150 - val_accuracy: 0.9700\n"
     ]
    }
   ],
   "source": [
    "# model fitting\n",
    "epochs = 10\n",
    "steps_per_epoch = train_generator.n // batch_size\n",
    "validation_steps = validation_generator.n // batch_size\n",
    "\n",
    "history = model.fit(train_generator,steps_per_epoch=steps_per_epoch,epochs=epochs,validation_data=validation_generator)"
   ]
  },
  {
   "cell_type": "code",
   "execution_count": 9,
   "metadata": {},
   "outputs": [
    {
     "name": "stderr",
     "output_type": "stream",
     "text": [
      "2023-10-11 19:52:08.889452: I tensorflow/core/common_runtime/executor.cc:1197] [/device:CPU:0] (DEBUG INFO) Executor start aborting (this does not indicate an error and you can ignore this message): INVALID_ARGUMENT: You must feed a value for placeholder tensor 'Placeholder/_0' with dtype int32\n",
      "\t [[{{node Placeholder/_0}}]]\n"
     ]
    },
    {
     "name": "stdout",
     "output_type": "stream",
     "text": [
      "8/8 [==============================] - 4s 485ms/step - loss: 0.3056 - accuracy: 0.9125\n",
      "Test_accuracy:0.9125000238418579\n",
      "Test_loss:0.3056197762489319\n"
     ]
    },
    {
     "name": "stderr",
     "output_type": "stream",
     "text": [
      "2023-10-11 19:52:13.290069: I tensorflow/core/common_runtime/executor.cc:1197] [/device:CPU:0] (DEBUG INFO) Executor start aborting (this does not indicate an error and you can ignore this message): INVALID_ARGUMENT: You must feed a value for placeholder tensor 'Placeholder/_0' with dtype int32\n",
      "\t [[{{node Placeholder/_0}}]]\n"
     ]
    },
    {
     "name": "stdout",
     "output_type": "stream",
     "text": [
      "8/8 [==============================] - 4s 483ms/step\n"
     ]
    }
   ],
   "source": [
    "# Evaluate the model on the testing set\n",
    "test_loss, test_acc  = model.evaluate(test_generator)\n",
    "print(f'Test_accuracy:{test_acc}')\n",
    "print(f'Test_loss:{test_loss}')\n",
    "\n",
    "# Make predictions on the test set / predections gives us the categoury/ class for which our data/ image belongs to/ givest he classification probabilitiees\n",
    "predictions = model.predict(test_generator)"
   ]
  },
  {
   "cell_type": "code",
   "execution_count": 10,
   "metadata": {},
   "outputs": [
    {
     "data": {
      "image/png": "[encoded data removed]",
      "text/plain": [
       "<Figure size 640x480 with 1 Axes>"
      ]
     },
     "metadata": {},
     "output_type": "display_data"
    }
   ],
   "source": [
    "# Plot the training and validation accuracy\n",
    "plt.plot(history.history['accuracy'])\n",
    "plt.plot(history.history['val_accuracy'])\n",
    "plt.title('Model Accuracy')\n",
    "plt.xlabel('Epoch')\n",
    "plt.ylabel('Accuracy')\n",
    "plt.legend(['Train', 'Validation'], loc='upper left')\n",
    "plt.show()"
   ]
  },
  {
   "cell_type": "code",
   "execution_count": 11,
   "metadata": {},
   "outputs": [],
   "source": [
    "#saving model\n",
    "from keras.models import load_model\n",
    "\n",
    "# Save the model\n",
    "model.save('Ultrasonic_welding_IPDL.h5')\n",
    "\n",
    "# # Load the model\n",
    "model1 = load_model('./Ultrasonic_welding_IPDL.h5')\n"
   ]
  },
  {
   "cell_type": "code",
   "execution_count": 15,
   "metadata": {},
   "outputs": [
    {
     "name": "stdout",
     "output_type": "stream",
     "text": [
      "1/1 [==============================] - 0s 75ms/step\n",
      "Prediction: [[4.5498986e-05 9.9925488e-01 4.6924168e-05 6.5268530e-04]], Label: good\n",
      "1/1 [==============================] - 0s 29ms/step\n",
      "Prediction: [[1.7515922e-05 9.9945360e-01 1.0047987e-04 4.2845763e-04]], Label: good\n",
      "1/1 [==============================] - 0s 27ms/step\n",
      "Prediction: [[0.03614109 0.17117839 0.03143613 0.7612444 ]], Label: scratch\n",
      "1/1 [==============================] - 0s 31ms/step\n",
      "Prediction: [[1.0000000e+00 8.6389225e-09 1.0313093e-10 2.6491884e-10]], Label: dent\n",
      "1/1 [==============================] - 0s 33ms/step\n",
      "Prediction: [[9.9960381e-01 6.2367234e-10 1.5134153e-06 3.9468828e-04]], Label: dent\n",
      "1/1 [==============================] - 0s 29ms/step\n",
      "Prediction: [[9.208466e-09 2.597610e-07 9.999856e-01 1.421573e-05]], Label: overextrusion\n",
      "1/1 [==============================] - 0s 33ms/step\n",
      "Prediction: [[4.3470664e-07 5.3012432e-06 9.9966955e-01 3.2477474e-04]], Label: overextrusion\n",
      "1/1 [==============================] - 0s 29ms/step\n",
      "Prediction: [[3.5382323e-02 4.0739418e-05 5.8889342e-04 9.6398807e-01]], Label: scratch\n"
     ]
    }
   ],
   "source": [
    "#predection on random images\n",
    "from PIL import Image\n",
    "import os\n",
    "\n",
    "# Define the classes\n",
    "classes = ['dent', 'good', 'overextrusion', 'scratch']\n",
    "\n",
    "# Set the path to the image dataset\n",
    "image_path = './test_predect/'\n",
    "\n",
    "# Loop through the images in the dataset\n",
    "for file in os.listdir(image_path):\n",
    "    # Load the image\n",
    "    img = Image.open(os.path.join(image_path, file)).resize((224, 224))\n",
    "    img = np.array(img) / 255.0\n",
    "    img = np.expand_dims(img, axis=0)\n",
    "    \n",
    "    # Make a prediction\n",
    "    prediction = model1.predict(img)\n",
    "\n",
    "    \n",
    "    # Get the label of the predicted class\n",
    "    label = classes[np.argmax(prediction)]\n",
    "    \n",
    "    # Print the prediction along with the label\n",
    "    print(f\"Prediction: {prediction}, Label: {label}\")"
   ]
  },
  {
   "cell_type": "code",
   "execution_count": 16,
   "metadata": {},
   "outputs": [
    {
     "name": "stdout",
     "output_type": "stream",
     "text": [
      "1/1 [==============================] - 0s 26ms/step\n",
      "GOOD_3.jpg - Prediction: good, True Label: good\n",
      "1/1 [==============================] - 0s 30ms/step\n",
      "GOOD_2.jpg - Prediction: good, True Label: good\n",
      "1/1 [==============================] - 0s 30ms/step\n",
      "scratch_3.jpg - Prediction: scratch, True Label: scratch\n",
      "1/1 [==============================] - 0s 28ms/step\n",
      "Dent_3.jpg - Prediction: dent, True Label: dent\n",
      "1/1 [==============================] - 0s 32ms/step\n",
      "Dent_1.jpg - Prediction: dent, True Label: dent\n",
      "1/1 [==============================] - 0s 31ms/step\n",
      "overextrusion_1.jpg - Prediction: overextrusion, True Label: overextrusion\n",
      "1/1 [==============================] - 0s 29ms/step\n",
      "overextrusion_3.jpg - Prediction: overextrusion, True Label: overextrusion\n",
      "1/1 [==============================] - 0s 28ms/step\n",
      "scratch_1.jpg - Prediction: scratch, True Label: scratch\n"
     ]
    },
    {
     "data": {
      "image/png": "[encoded data removed]",
      "text/plain": [
       "<Figure size 800x600 with 2 Axes>"
      ]
     },
     "metadata": {},
     "output_type": "display_data"
    }
   ],
   "source": [
    "import os\n",
    "from PIL import Image\n",
    "from sklearn.metrics import confusion_matrix\n",
    "import seaborn as sns\n",
    "import matplotlib.pyplot as plt\n",
    "\n",
    "# Define the classes\n",
    "classes = ['dent', 'good', 'overextrusion', 'scratch']\n",
    "\n",
    "# Set the path to the image dataset\n",
    "image_path = './test_predect/'\n",
    "\n",
    "# Initialize an empty list to store predictions and true labels\n",
    "all_predictions = []\n",
    "all_true_labels = []\n",
    "\n",
    "# Loop through the images in the dataset\n",
    "for file in os.listdir(image_path):\n",
    "    # Load the image\n",
    "    img = Image.open(os.path.join(image_path, file)).resize((224, 224))\n",
    "    img = np.array(img) / 255.0\n",
    "    img = np.expand_dims(img, axis=0)\n",
    "    \n",
    "    # Make a prediction\n",
    "    prediction = model1.predict(img)\n",
    "    \n",
    "    # Get the label of the predicted class\n",
    "    predicted_label = classes[np.argmax(prediction)]\n",
    "    \n",
    "    # Extract the true label from the filename (modify the parsing if needed)\n",
    "    true_label = file.split('_')[0].lower()  # Assuming the filename contains the true label before an underscore\n",
    "    \n",
    "    # Check if the true label is valid (exists in classes)\n",
    "    if true_label not in classes:\n",
    "        print(f\"Warning: Invalid true label '{true_label}' for file '{file}'. Skipping this sample.\")\n",
    "    else:\n",
    "        # Add predictions and true labels to the lists\n",
    "        all_predictions.append(predicted_label)\n",
    "        all_true_labels.append(true_label)\n",
    "\n",
    "        # Print the prediction along with the label\n",
    "        print(f\"{file} - Prediction: {predicted_label}, True Label: {true_label}\")\n",
    "\n",
    "# Create the confusion matrix if there are valid samples\n",
    "if len(all_predictions) > 0:\n",
    "    # Create the confusion matrix\n",
    "    conf_matrix = confusion_matrix(all_true_labels, all_predictions, labels=classes)\n",
    "\n",
    "    # Plot the confusion matrix\n",
    "    plt.figure(figsize=(8, 6))\n",
    "    sns.heatmap(conf_matrix, annot=True, fmt=\"d\", xticklabels=classes, yticklabels=classes, cmap=\"Blues\")\n",
    "    plt.xlabel('Predicted Labels')\n",
    "    plt.ylabel('True Labels')\n",
    "    plt.title('Confusion Matrix')\n",
    "    plt.show()\n",
    "else:\n",
    "    print(\"No valid samples found. Check the true labels and filenames.\")\n"
   ]
  }
 ],
 "metadata": {
  "kernelspec": {
   "display_name": "tf",
   "language": "python",
   "name": "python3"
  },
  "language_info": {
   "codemirror_mode": {
    "name": "ipython",
    "version": 3
   },
   "file_extension": ".py",
   "mimetype": "text/x-python",
   "name": "python",
   "nbconvert_exporter": "python",
   "pygments_lexer": "ipython3",
   "version": "3.9.16"
  },
  "orig_nbformat": 4
 },
 "nbformat": 4,
 "nbformat_minor": 2
}
